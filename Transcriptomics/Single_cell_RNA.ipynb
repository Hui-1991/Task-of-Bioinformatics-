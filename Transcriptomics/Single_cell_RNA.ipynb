{
 "cells": [
  {
   "cell_type": "code",
   "execution_count": null,
   "id": "e789f7c0-3aee-4bf0-b034-1e6b1c4a0aad",
   "metadata": {},
   "outputs": [],
   "source": [
    "# Import libraries \n",
    "import scanpy as sc\n",
    "import pandas as pd \n",
    "import matplotlib.pyplot as plt\n",
    "import anndata as ad \n",
    "import numpy as np\n",
    "from pydeseq2.dds import DeseqDataSet\n",
    "from pydeseq2.ds import DeseqStats\n"
   ]
  },
  {
   "cell_type": "code",
   "execution_count": null,
   "id": "204ec27e-852e-44cb-bf50-840af2df7e71",
   "metadata": {
    "tags": []
   },
   "outputs": [],
   "source": [
    "# Laod count matrixes for samples and Transpose (Rows: Genes, Columns: Cells -> Rows: Cells, Columns: Genes)\n",
    "wt1 = sc.read_csv(\"/data/BIOL5177/Assessment/WT1/counts_matrix.csv\").T\n",
    "inf1 = sc.read_csv(\"/data/BIOL5177/Assessment/Infected1/counts_matrix.csv\").T\n",
    "inf2 = sc.read_csv(\"/data/BIOL5177/Assessment/Infected2/counts_matrix.csv\").T\n",
    "\n",
    "\n",
    "# Add group columns\n",
    "wt1.obs[\"Group\"] = \"Wildtype\"\n",
    "inf1.obs[\"Group\"] = \"Infected\"\n",
    "inf2.obs[\"Group\"] = \"Infected\" \n",
    "\n",
    "# Add sample columns\n",
    "wt1.obs[\"Sample\"] = \"Wildtype1\"\n",
    "inf1.obs[\"Sample\"] = \"Infected1\"\n",
    "inf2.obs[\"Sample\"] = \"Infected2\" \n",
    "\n",
    "# Put samples togeter in a list\n",
    "samples = [wt1, inf1, inf2]  "
   ]
  },
  {
   "cell_type": "markdown",
   "id": "19b32ee3-8bdc-44de-9b00-a3c7e033f1b8",
   "metadata": {
    "tags": []
   },
   "source": [
    "# Pre-processing "
   ]
  },
  {
   "cell_type": "code",
   "execution_count": null,
   "id": "57d36b41-6453-409b-932b-28045cec4690",
   "metadata": {
    "tags": []
   },
   "outputs": [],
   "source": [
    "# Loop through each sample to perform QC steps  \n",
    "for sample in samples: \n",
    "    sample.var[\"mt\"] = sample.var_names.str.startswith(\"mt-\")                      # Add column for the number of mitocondrial genes\n",
    "    sc.pp.calculate_qc_metrics(sample, qc_vars=[\"mt\"], log1p=False, inplace=True)  # Calculate QC metrics\n",
    "    sc.pp.filter_genes(sample, min_cells = 2)                                      # Filter genes that are expressed in less than 2 cells  \n",
    "    sc.pp.filter_cells(sample, min_genes = 40)                                     # Filter cells that have less than 40 genes expressed\n"
   ]
  },
  {
   "cell_type": "code",
   "execution_count": null,
   "id": "c31d187e-ccc4-4bdf-8d7e-69553a052bcb",
   "metadata": {
    "tags": []
   },
   "outputs": [],
   "source": [
    "# Loop thorugh for generating violoin plot \n",
    "\n",
    "for sample in samples: \n",
    "    sc.pl.violin(\n",
    "        sample,\n",
    "        [\"total_counts\", \"n_genes_by_counts\" , \"pct_counts_mt\"],\n",
    "        jitter=0.4,\n",
    "        multi_panel=True,\n",
    "    )"
   ]
  },
  {
   "cell_type": "code",
   "execution_count": null,
   "id": "39ae1362-50bf-48f5-a619-1fa06c996e9e",
   "metadata": {
    "tags": []
   },
   "outputs": [],
   "source": [
    "# Loop through for generating scatter plots \n",
    "\n",
    "for sample in samples: \n",
    "    fig, axes = plt.subplots(1, 2, figsize=(10,5))                                          # Create subplot\n",
    "    sc.pl.scatter(sample, x=\"total_counts\", y=\"pct_counts_mt\",ax=axes[0], show=False)       # Total counts vs Mitochondrial genes \n",
    "    sc.pl.scatter(sample, x=\"total_counts\", y=\"n_genes_by_counts\", ax=axes[1], show=False)  # Total counts vs the Number of genes   \n",
    "    "
   ]
  },
  {
   "cell_type": "code",
   "execution_count": null,
   "id": "a6daa911-8b81-47d7-afff-affdfaed4d43",
   "metadata": {
    "tags": []
   },
   "outputs": [],
   "source": [
    "# Filter out based on parameters \n",
    "\n",
    "filtered = []\n",
    "\n",
    "for sample in samples: \n",
    "    \n",
    "    sample = sample[(sample.obs.n_genes_by_counts > 200) & (sample.obs.n_genes_by_counts < 4200), :]   # Filter cells that have less than 200 genes & have more than 4200 genes\n",
    "    sample = sample[sample.obs.pct_counts_mt < 5, :].copy()                                            # Filter cells that have more than 5 mitocondrial genes  \n",
    "   \n",
    "    filtered.append(sample) "
   ]
  },
  {
   "cell_type": "markdown",
   "id": "3d808b05-c296-4a6e-bdba-aa775c78ca63",
   "metadata": {},
   "source": [
    "# Normalizing data"
   ]
  },
  {
   "cell_type": "code",
   "execution_count": null,
   "id": "29b8ad61-85e2-428d-80d3-3ec9db8d37b4",
   "metadata": {},
   "outputs": [],
   "source": [
    "# Merge all dataset in 'filtered' list \n",
    "combined = ad.concat(filtered)\n",
    "combined.obs\n",
    "combined_raw = combined.copy()  # Make copy the data befor normalization step                                                      \n",
    "\n",
    "# delete the unnecesaary objects \n",
    "del wt1\n",
    "del inf1\n",
    "del inf2"
   ]
  },
  {
   "cell_type": "code",
   "execution_count": null,
   "id": "7d92a99a-ab0a-4da9-9160-fcbe9f81178e",
   "metadata": {
    "tags": []
   },
   "outputs": [],
   "source": [
    "# Normalize combinded data \n",
    "                                                    \n",
    "sc.pp.normalize_total(combined, target_sum=10e4)                                   # Nomalized the data \n",
    "sc.pp.log1p(combined)                                                              # Logarithmize the data\n",
    "sc.pp.highly_variable_genes(combined, min_mean=0.0125, max_mean=5, min_disp=0.5)   # Identify highly-variable genes \n",
    "sc.pl.highly_variable_genes(combined)\n",
    "combined.raw = combined.copy()                                                     # Store \n",
    "combined = combined[:,combined.var.highly_variable]                                # Filter with highly variable genes\n",
    "sc.pp.scale(combined, max_value=10)                                                # Scale the data \n"
   ]
  },
  {
   "cell_type": "markdown",
   "id": "0bea7aed-e9a2-4cf9-ab35-cf67a8ff12bf",
   "metadata": {},
   "source": [
    "### Principal Component Analysis (PCA)"
   ]
  },
  {
   "cell_type": "code",
   "execution_count": null,
   "id": "afca50f3-1b59-4d48-be9a-b07044c28a60",
   "metadata": {
    "tags": []
   },
   "outputs": [],
   "source": [
    "sc.tl.pca(combined, svd_solver=\"arpack\")                 # Reduce the dimensionality of the data\n",
    "sc.pl.pca_variance_ratio(combined, log=True, n_pcs = 50) # Create elbow plot "
   ]
  },
  {
   "cell_type": "code",
   "execution_count": null,
   "id": "760ee9a0-6a99-46c9-bd06-6d262743857e",
   "metadata": {
    "tags": []
   },
   "outputs": [],
   "source": [
    "sc.pl.pca(combined, color=\"Group\")"
   ]
  },
  {
   "cell_type": "markdown",
   "id": "c4cf4b3e-b80d-4dd8-bbba-5e2f6633ba16",
   "metadata": {},
   "source": [
    "### Clustering the neighborhood graph"
   ]
  },
  {
   "cell_type": "code",
   "execution_count": null,
   "id": "4981d131-7b0c-4b31-a682-6e369cd3f533",
   "metadata": {
    "tags": []
   },
   "outputs": [],
   "source": [
    "sc.pp.neighbors(combined, n_neighbors = 15, n_pcs = 32)          # Create the neighborhood graph \n",
    "sc.tl.leiden(combined, resolution = 0.2)                         # Cluster with Leiden graph method\n",
    "\n",
    "sc.tl.umap(combined)                                             # Run UMAP\n",
    "sc.pl.umap(combined, color = \"Group\")                            # Plot the clusters \n",
    "sc.pl.umap(combined, color = \"leiden\", legend_loc = \"on data\")   # To compare cluster's location "
   ]
  },
  {
   "cell_type": "markdown",
   "id": "589607a5-8a73-4efb-a3b1-b6989183e7c8",
   "metadata": {},
   "source": [
    " # Integration with BBKNN "
   ]
  },
  {
   "cell_type": "code",
   "execution_count": null,
   "id": "3f26e8d1-4c2e-4ff7-a78a-5128ed245249",
   "metadata": {
    "tags": []
   },
   "outputs": [],
   "source": [
    "# code refererence: https://www.sc-best-practices.org/cellular_structure/integration.html \n",
    "combined_b = combined.copy()                           # To avoid to overlap the result from harmony integration\n",
    "sc.pp.pca(combined_b)                                  # Run PCA \n",
    "sc.external.pp.bbknn(combined_b, batch_key = \"Group\")  # Run BBKNN\n",
    "sc.pl.pca_variance_ratio(combined_b, log=True, n_pcs = 50)"
   ]
  },
  {
   "cell_type": "markdown",
   "id": "ad851392-9ac5-43bf-943d-6e1e2dc82f05",
   "metadata": {
    "tags": []
   },
   "source": [
    "## Perform analysis"
   ]
  },
  {
   "cell_type": "code",
   "execution_count": null,
   "id": "5c2a345e-ccf6-4f81-92e8-6593ca2277fc",
   "metadata": {
    "tags": []
   },
   "outputs": [],
   "source": [
    "sc.tl.leiden(combined_b, resolution = 0.2)                          # Cluster with Leiden graph method\n",
    "sc.tl.umap(combined_b)                                              # Run UMAP\n",
    "sc.pl.umap(combined_b, color = \"Group\")                             # Plot the clusters based on \"Group\"\n",
    "sc.pl.umap(combined_b, color = \"leiden\", legend_loc = \"on data\")    # Plot the clusters based on \"Leiden\""
   ]
  },
  {
   "cell_type": "markdown",
   "id": "514fcdb5-c355-43ab-9e9d-5b8451b83b07",
   "metadata": {},
   "source": [
    "## Annotation of Cell type with three largest clusters"
   ]
  },
  {
   "cell_type": "code",
   "execution_count": null,
   "id": "83e63218-c54f-42ef-87a0-e6226c769d7a",
   "metadata": {
    "tags": []
   },
   "outputs": [],
   "source": [
    "threeclusters = sc.tl.rank_genes_groups(combined_b, \"leiden\", method=\"wilcoxon\", groups = [\"0\",\"1\",\"2\"]) # Find marker genes for three largest groups\n",
    "sc.pl.rank_genes_groups(combined_b, n_genes=25, sharey=False)                                            # Visulalize the top 25 markers                                          "
   ]
  },
  {
   "cell_type": "code",
   "execution_count": null,
   "id": "d07eaa2d-6d4c-4edd-bc63-312dbda527b7",
   "metadata": {
    "tags": []
   },
   "outputs": [],
   "source": [
    "# Generate a DE table \n",
    "\n",
    "res = combined_b.uns[\"rank_genes_groups\"]                   # Extrac the result\n",
    "groups = res[\"names\"].dtype.names                           # Make a list of cluster's name \n",
    "pd.DataFrame(                                               # Construct a data frame with statictics data \n",
    "    {\n",
    "        f\"Cluster{group}_{key}\": res[key][group]\n",
    "        for group in groups\n",
    "        for key in [\"names\", \"pvals_adj\",\"logfoldchanges\"]\n",
    "    })\n"
   ]
  },
  {
   "cell_type": "code",
   "execution_count": null,
   "id": "888caf16-444c-4c3f-b7d1-32a72ca8a339",
   "metadata": {
    "tags": []
   },
   "outputs": [],
   "source": [
    "# reference: https://scanpy.readthedocs.io/en/stable/tutorials/basics/clustering.html\n",
    "marker_genes = {\n",
    "    \"CD14+ Mono\": [\"Cd14\"],\n",
    "    \"CD16+ Mono\": [\"Tcf7l2\", \"Lyn\"],\n",
    "    \"cDC2\": [\"Cst3\", \"Cotl1\", \"Dmxl2\", \"Clec10a\"],\n",
    "    \"Erythroblast\": [\"Mki67\"],\n",
    "    \"Proerythroblast\": [\"Cdk6\", \"Syngr1\", \"Gypa\"],\n",
    "    \"NK\": [\"Nkg7\", \"Cd247\", \"Fcer1g\", \"Tyrobp\", \"Klrg1\"],\n",
    "    \"ILC\": [\"Id2\", \"Plcg2\", \"Syne1\"],\n",
    "    \"Naive CD20+ B\": [\"Ms4a1\", \"Ighd\", \"Fcrl1\", \"Ighm\"],\n",
    "    \"B cells\": [\n",
    "        \"Ms4a1\", \"Itgb1\", \"Col4a4\", \"Prdm1\", \"Irf4\",\n",
    "        \"Pax5\", \"Bcl11a\", \"Blk\", \"Ighd\", \"Ighm\"\n",
    "    ],\n",
    "    \"Plasma cells\": [\"Mzb1\", \"Hsp90b1\", \"Fndc3b\", \"Prdm1\", \"Igkc\", \"Jchain\"],\n",
    "    \"Plasmablast\": [\"Xbp1\", \"Prdm1\", \"Pax5\"],\n",
    "    \"CD4+ T\": [\"Cd4\", \"Il7r\", \"Trbc2\"],\n",
    "    \"CD8+ T\": [\"Cd8a\", \"Gzma\", \"Ccl5\", \"Gzmb\"],\n",
    "    \"T naive\": [\"Lef1\", \"Ccr7\", \"Tcf7\"],\n",
    "    \"pDC\": [\"Gzmb\", \"Il3ra\", \"Cobll1\", \"Tcf4\"],\n",
    "}"
   ]
  },
  {
   "cell_type": "code",
   "execution_count": null,
   "id": "27cc77b7-1664-47e4-bcab-03be3f49f1f1",
   "metadata": {
    "tags": []
   },
   "outputs": [],
   "source": [
    "sc.pl.dotplot(combined_b, marker_genes, groupby=\"leiden\", use_raw=True) # To compare the expression of marker genes "
   ]
  },
  {
   "cell_type": "code",
   "execution_count": null,
   "id": "addf49dc-b4b5-47bd-8b0e-3632b85c4e00",
   "metadata": {
    "tags": []
   },
   "outputs": [],
   "source": [
    "# Annotate cell type for three largest clusters \n",
    "\n",
    "combined_b.obs[\"celltype\"] = \"None\"               \n",
    "markers = [\"B cell\", \"B cell\", \"NK cell\"]\n",
    "for i in  range(len(markers)): \n",
    "    loc = combined_b.obs[\"leiden\"] == str(i) \n",
    "    combined_b.obs.loc[loc,\"celltype\"] = markers[i]   \n",
    "\n",
    "combined_b.obs"
   ]
  },
  {
   "cell_type": "code",
   "execution_count": null,
   "id": "dcb64c69-2f18-4f98-8ecb-10294040f0ec",
   "metadata": {
    "tags": []
   },
   "outputs": [],
   "source": [
    "largest = combined_b[combined_b.obs[\"leiden\"].isin([\"0\",\"1\",\"2\"])] # Make subset  for hte largest three clusters \n",
    "sc.pl.umap(largest, color=[\"celltype\", \"leiden\"], groups = [\"B cell\",\"NK cell\",\"0\",\"1\",\"2\"], legend_loc = \"on data\")"
   ]
  },
  {
   "cell_type": "markdown",
   "id": "78abd39d-d401-4a09-9150-dbaa481cd283",
   "metadata": {},
   "source": [
    "## Compare frequency between groups"
   ]
  },
  {
   "cell_type": "code",
   "execution_count": null,
   "id": "42416320-82cc-4a71-bcca-27f776d6a2cc",
   "metadata": {
    "tags": []
   },
   "outputs": [],
   "source": [
    "# Create a table for cell frequency per cluster and visualize as the stacked bar plot\n",
    "freq_table = pd.crosstab(combined_b.obs[\"Group\"], combined_b.obs[\"leiden\"], normalize=\"index\")\n",
    "freq_table = freq_table.reindex([\"Wildtype\",\"Infected\"])\n",
    "\n",
    "# Visualization -> reference: https://pandas.pydata.org/docs/reference/api/pandas.DataFrame.plot.bar.html#pandas.DataFrame.plot.bar\n",
    "bar_plt = freq_table.plot.bar(stacked=True, colormap=\"viridis\", figsize = (10,6))\n",
    "plt.legend(title=\"Clusters\", loc = \"right\")\n",
    "plt.xticks(rotation=0) \n",
    "plt.ylabel(\"Frequency of cells\")"
   ]
  },
  {
   "cell_type": "markdown",
   "id": "7b63ac25-ff20-4795-bd3f-f2bf1c5c3925",
   "metadata": {},
   "source": [
    "## Differential Expression -> Focusing on \"Ms4a1\" gene"
   ]
  },
  {
   "cell_type": "code",
   "execution_count": null,
   "id": "7416a6dc-4b07-4317-b5e7-4b7e769a588f",
   "metadata": {
    "tags": []
   },
   "outputs": [],
   "source": [
    "# Find the clusters that shows highly expressed Ms4a1 gene\n",
    "sc.tl.umap(combined_b)                                             # Run UMAP\n",
    "sc.pl.umap(combined_b, color = \"leiden\", legend_loc = \"on data\")   # To compare cluster's location \n",
    "sc.pl.umap(combined_b, color = \"Ms4a1\")                            # To find the clusters that express Ms4a1"
   ]
  },
  {
   "cell_type": "code",
   "execution_count": null,
   "id": "9503c6dc-7e7c-4d5b-a167-618ea4730361",
   "metadata": {
    "tags": []
   },
   "outputs": [],
   "source": [
    "# DE ananlysis with cluster 1 that express Ms4a1 gene highly \n",
    "cluster1 = combined_b[combined_b.obs[\"leiden\"]== \"1\", :].copy()                                                   # Make a subset for cluster 1\n",
    "sc.tl.rank_genes_groups(cluster1, groupby=\"Group\", groups=[\"Infected\"], reference = \"Wildtype\",  use_raw = True)  # Run DE in Cluster 1 subset \n",
    "\n",
    "res = cluster1.uns[\"rank_genes_groups\"]  # Extract result \n",
    "\n",
    "# Create dataframe of result for only infected cells within cluster 1 \n",
    "\n",
    "c1_infected = pd.DataFrame(\n",
    "    {\n",
    "        \"Gene\": res[\"names\"][\"Infected\"],\n",
    "        \"adj_p\": res[\"pvals_adj\"][\"Infected\"],\n",
    "        \"logFC\": res[\"logfoldchanges\"][\"Infected\"]\n",
    "    })"
   ]
  },
  {
   "cell_type": "code",
   "execution_count": null,
   "id": "9e4a4490-43f9-49f6-bbe4-f83b9999038f",
   "metadata": {
    "tags": []
   },
   "outputs": [],
   "source": [
    "# Fiilter up-regulated genes\n",
    "Upc1_infected = c1_infected[\n",
    "    (c1_infected[\"adj_p\"] < 0.01) &\n",
    "    (c1_infected[\"logFC\"] > 0.5)]\n",
    "\n",
    "# print out the number of filtered up-regulated genes\n",
    "print(f\" The number of up-regulated genes in the malaria infected cells of Cluster 1 is BBKNN: {len(Upc1_infected)}\")\n",
    "b_Upnumber = len(Upc1_infected)"
   ]
  },
  {
   "cell_type": "markdown",
   "id": "2db8a22c-fb3d-4526-94d6-abe33a3f8b16",
   "metadata": {},
   "source": [
    "## Pseudo bulk DE based on BBKNN result"
   ]
  },
  {
   "cell_type": "code",
   "execution_count": null,
   "id": "4af8f464-0b7e-41df-b788-3a01c93965c8",
   "metadata": {
    "tags": []
   },
   "outputs": [],
   "source": [
    "# Code refernce for pseudo bulk\n",
    "# https://pydeseq2.readthedocs.io/en/latest/auto_examples/plot_minimal_pydeseq2_pipeline.html\n",
    "# https://github.com/mousepixels/sanbomics_scripts/blob/main/pseudobulk_pyDeseq2.ipynb"
   ]
  },
  {
   "cell_type": "code",
   "execution_count": null,
   "id": "c725da68-eabe-423b-a04d-9496803694b8",
   "metadata": {
    "tags": []
   },
   "outputs": [],
   "source": [
    "# Restore the raw data\n",
    "pseudo_b = combined_raw.copy() \n",
    "\n",
    "# Create a new layer and insert the raw expression matrix\n",
    "pseudo_b.layers[\"counts\"] = pseudo_b.X.copy()\n",
    "# Match the data with cluster 1 of bbknn reslut. \n",
    "pseudo_b = pseudo_b[combined_b.obs[\"leiden\"]== \"1\", cluster1.var_names].copy() \n",
    "\n",
    "# combined_b.obs[\"leiden\"]== \"1\", cluster1.var_names\n"
   ]
  },
  {
   "cell_type": "code",
   "execution_count": null,
   "id": "22d13c5a-5a90-4e61-899e-2256f5a3a7d9",
   "metadata": {
    "tags": []
   },
   "outputs": [],
   "source": [
    "#Perform \"Pseudo-bulk\" \n",
    "bulk_b = sc.get.aggregate(\n",
    "    pseudo_b,\n",
    "    by=[\"Sample\",\"Group\"],\n",
    "    layer=\"counts\",\n",
    "    func=\"sum\")\n",
    "\n",
    "#Retrieve the result from the \"sum\" layer  \n",
    "bulk_b_matrix = bulk_b.layers[\"sum\"]\n",
    "\n",
    "# Convert count matrix to data frame \n",
    "bulk_b.X = bulk_b_matrix\n",
    "counts = pd.DataFrame(bulk_b.X, columns = bulk_b.var_names, index = bulk_b.obs_names)"
   ]
  },
  {
   "cell_type": "code",
   "execution_count": null,
   "id": "39737240-91d9-4402-a15e-46b6c3d19b2a",
   "metadata": {
    "tags": []
   },
   "outputs": [],
   "source": [
    "# Perform DE analysis\n",
    "dds_b = DeseqDataSet(\n",
    "    counts = counts,\n",
    "    metadata = bulk_b.obs,\n",
    "    design = \"~Group\"\n",
    ")\n",
    "\n",
    "# Run DESeq2\n",
    "dds_b.deseq2()\n",
    "\n",
    "# Perfrom statistical analysis to compare between two groups\n",
    "stat_b = DeseqStats(dds_b,  contrast=[\"Group\", \"Infected\", \"Wildtype\"])\n",
    "stat_b.summary()\n",
    "\n",
    "# Make the result to dataframe\n",
    "res_b = stat_b.results_df \n",
    "\n",
    "# Filter the result to extract up-regulated genes\n",
    "up_b = res_b[\n",
    "    (res_b[\"padj\"] < 0.01) &\n",
    "    (res_b[\"log2FoldChange\"] > 0.5)\n",
    "]\n",
    "\n",
    "up_b\n",
    "\n",
    "# Print up-regulated genes in cluster 1 \n",
    "print(f\" The number of up-regulated genes in the malaria infected cells is BBKNN + Pseudo Bulk: {up_b.shape[0]}\")\n",
    "\n",
    "bulk_b_Upnumber = up_b.shape[0]"
   ]
  },
  {
   "cell_type": "markdown",
   "id": "c9b11810-7f6c-4b2c-87be-6f8e3ba01e0d",
   "metadata": {},
   "source": [
    "# Integration with Harmony"
   ]
  },
  {
   "cell_type": "code",
   "execution_count": null,
   "id": "63894850-4410-464a-9510-5f6c6177130f",
   "metadata": {
    "tags": []
   },
   "outputs": [],
   "source": [
    "combined_h = combined.copy()  # To avoid to overlap the result with BBKNN integration                         \n",
    "sc.external.pp.harmony_integrate(combined_h, key = \"Group\")"
   ]
  },
  {
   "cell_type": "code",
   "execution_count": null,
   "id": "66800409-6337-46a9-986e-58a091ecaedc",
   "metadata": {
    "tags": []
   },
   "outputs": [],
   "source": [
    "# Find the clusters that shows highly expressed Ms4a1 gene\n",
    "combined_h.obsm['X_pca'] = combined_h.obsm['X_pca_harmony']               # reference: https://support.parsebiosciences.com/hc/en-us/articles/7704577188500-How-to-analyze-a-1-million-cell-data-set-using-Scanpy-and-Harmony\n",
    "sc.pp.neighbors(combined_h, n_neighbors = 15)  \n",
    "sc.tl.leiden(combined_h, resolution = 0.2)                                # Cluster with Leiden graph method\n",
    "\n",
    "sc.tl.umap(combined_h)                                                    \n",
    "sc.pl.umap(combined_h, color = \"leiden\", legend_loc = \"on data\")          # To compare cluster's location \n",
    "sc.pl.umap(combined_h, color = \"Ms4a1\")                                   # To find the clusters that express Ms4a1"
   ]
  },
  {
   "cell_type": "markdown",
   "id": "89e6ddb5-dcca-4bda-84f4-a93b52a11307",
   "metadata": {},
   "source": [
    "## DE analysis"
   ]
  },
  {
   "cell_type": "code",
   "execution_count": null,
   "id": "93a48855-9e5f-4881-b559-04290fa4507a",
   "metadata": {
    "tags": []
   },
   "outputs": [],
   "source": [
    "# DE ananlysis with cluster 1 that express Ms4a1 gene highly \n",
    "cluster1_h = combined_h[combined_h.obs[\"leiden\"]== \"1\", :].copy()  # Make a subset for cluster 1\n",
    "sc.tl.rank_genes_groups(cluster1_h, groupby=\"Group\", groups=[\"Infected\"], reference = \"Wildtype\",  use_raw = True)  # Run DE in Cluster 1 subset \n",
    "\n",
    "res = cluster1_h.uns[\"rank_genes_groups\"]  # Extract result \n",
    "\n",
    "# Create dataframe of result for only infected cells within cluster 1 \n",
    "c1_infected = pd.DataFrame(\n",
    "    {\n",
    "        \"Gene\": res[\"names\"][\"Infected\"],\n",
    "        \"adj_p\": res[\"pvals_adj\"][\"Infected\"],\n",
    "        \"logFC\": res[\"logfoldchanges\"][\"Infected\"]\n",
    "    })"
   ]
  },
  {
   "cell_type": "code",
   "execution_count": null,
   "id": "c55eb177-412e-4ddf-a851-eab227df4a51",
   "metadata": {
    "tags": []
   },
   "outputs": [],
   "source": [
    "# Fiilter up-regulated genes\n",
    "Upc1_infected = c1_infected[\n",
    "    (c1_infected[\"adj_p\"] < 0.01) &\n",
    "    (c1_infected[\"logFC\"] > 0.5)]\n",
    "\n",
    "# print out the number of filtered up-regulated genes\n",
    "print(f\" The number of up-regulated genes in the malaria infected cells of Cluster 1 is Harmony: {len(Upc1_infected)}\")\n",
    "h_Upnumber = len(Upc1_infected)"
   ]
  },
  {
   "cell_type": "markdown",
   "id": "9bd91b16-6e39-4e24-98f0-fcdd50e15a3c",
   "metadata": {},
   "source": [
    "## Pseudo bulk DE based on Harmony result"
   ]
  },
  {
   "cell_type": "code",
   "execution_count": null,
   "id": "8331ea4f-6f5c-4b6f-85aa-84fe563228c2",
   "metadata": {
    "tags": []
   },
   "outputs": [],
   "source": [
    "# Restore the raw data\n",
    "pseudo_h = combined_raw.copy() \n",
    "\n",
    "# Create a new layer and insert the raw expression matrix\n",
    "pseudo_h.layers[\"counts\"] = pseudo_h.X.copy()\n",
    "\n",
    "# Match the data with cluster 1 of harmony reslut. \n",
    "pseudo_h = pseudo_h[combined_h.obs[\"leiden\"]== \"1\", cluster1_h.var_names].copy() \n"
   ]
  },
  {
   "cell_type": "code",
   "execution_count": null,
   "id": "e4a3dd8c-73b9-456b-9360-aef50a95ef30",
   "metadata": {
    "tags": []
   },
   "outputs": [],
   "source": [
    "#Perform \"Pseudo-bulk\" \n",
    "bulk_h = sc.get.aggregate(\n",
    "    pseudo_h,\n",
    "    by=[\"Sample\",\"Group\"],\n",
    "    layer=\"counts\",\n",
    "    func=\"sum\")\n",
    "\n",
    "#Retrieve the result from the \"sum\" layer  \n",
    "bulk_h_matrix = bulk_h.layers[\"sum\"]\n",
    "\n",
    "# Convert count matrix to data frame \n",
    "bulk_h.X = bulk_h_matrix\n",
    "counts = pd.DataFrame(bulk_h.X, columns = bulk_h.var_names, index = bulk_h.obs_names)\n"
   ]
  },
  {
   "cell_type": "code",
   "execution_count": null,
   "id": "d96f077f-da61-4785-9fe2-49580b90df61",
   "metadata": {
    "tags": []
   },
   "outputs": [],
   "source": [
    "# Perform DE analysis\n",
    "dds_h = DeseqDataSet(\n",
    "    counts = counts,\n",
    "    metadata = bulk_h.obs,\n",
    "    design = \"~Group\"\n",
    ")\n",
    "\n",
    "# Run DESeq2\n",
    "dds_h.deseq2()\n",
    "\n",
    "# Perfrom statistical analysis to compare between two groups\n",
    "stat_h = DeseqStats(dds_h,  contrast=[\"Group\", \"Infected\", \"Wildtype\"])\n",
    "stat_h.summary()\n",
    "\n",
    "# Make the result to dataframe\n",
    "res_h = stat_h.results_df \n",
    "\n",
    "# Filter the result to extract up-regulated genes\n",
    "up_h = res_h[\n",
    "    (res_h[\"padj\"] < 0.01) &\n",
    "    (res_h[\"log2FoldChange\"] > 0.5)]\n",
    "\n",
    "up_h\n",
    "\n",
    "# Print up-regulated genes in cluster 1 \n",
    "print(f\" The number of up-regulated genes in the malaria infected cells is Harmony + Pseudo Bulk: {up_h.shape[0]}\")\n",
    "\n",
    "bulk_h_Upnumber = up_h.shape[0]"
   ]
  },
  {
   "cell_type": "markdown",
   "id": "a1012eb8-fcbc-495e-9899-f620417f80ba",
   "metadata": {},
   "source": [
    "## Result bar plot "
   ]
  },
  {
   "cell_type": "code",
   "execution_count": null,
   "id": "ddca7baa-34b7-4d58-9d48-95bd865f8c75",
   "metadata": {
    "tags": []
   },
   "outputs": [],
   "source": [
    "# Summurize the integration and pesudo bulk analysis results \n",
    "\n",
    "# Create the dictionay to gather the result \n",
    "up_numbers = {\"BBNKK\": b_Upnumber,\n",
    "              \"BBKNN:Pseudo Bulk\" : bulk_b_Upnumber,\n",
    "              \"Harmony\": h_Upnumber,\n",
    "              \"Harmony:Pseudo Bulk\": bulk_h_Upnumber }\n",
    "\n",
    "# each bar colors \n",
    "colors = ['royalblue', 'cornflowerblue', 'slateblue', 'thistle']\n",
    "\n",
    "# Create bar color \n",
    "plt.bar(range(len(up_numbers)), list(up_numbers.values()), tick_label = list(up_numbers.keys()), color = colors)\n",
    "\n",
    "# Assignn each value on bar\n",
    "for i, val in enumerate(list(up_numbers.values())):\n",
    "    plt.text(i, val + 0.1, int(val), ha='center', va='bottom')\n",
    "    \n",
    "plt.title('Up-regulated genes of malaria infected cells')\n",
    "plt.ylabel('the number of genes')\n"
   ]
  },
  {
   "cell_type": "markdown",
   "id": "e7c74adf-cffc-4d03-8f6f-4f24b193d320",
   "metadata": {
    "tags": []
   },
   "source": [
    "# Trajectory analysis"
   ]
  },
  {
   "cell_type": "markdown",
   "id": "9dec9053-f9b4-4eff-a1d9-6622b61c0896",
   "metadata": {
    "tags": []
   },
   "source": [
    "## PAGA"
   ]
  },
  {
   "cell_type": "code",
   "execution_count": null,
   "id": "c2e4584d-4c03-4a10-9946-d170d18deac8",
   "metadata": {
    "tags": []
   },
   "outputs": [],
   "source": [
    "# Preprocessing and clustering \n",
    "paga = combined.copy()                           # To avoid to overlap the result\n",
    "sc.tl.pca(paga, svd_solver=\"arpack\")             # Run PCA \n",
    "sc.pp.neighbors(paga, n_neighbors=15, n_pcs=32)  # Compute neighbors \n",
    "sc.tl.leiden(paga, resolution = 0.2)             # clustering "
   ]
  },
  {
   "cell_type": "code",
   "execution_count": null,
   "id": "a6c39eca-4847-4b3b-886c-c3ff20e20b55",
   "metadata": {
    "tags": []
   },
   "outputs": [],
   "source": [
    "# Denoising the graph\n",
    "sc.tl.diffmap(paga)                                         # compute a diffusion map                                  \n",
    "sc.pp.neighbors(paga, n_neighbors=15, use_rep=\"X_diffmap\")"
   ]
  },
  {
   "cell_type": "code",
   "execution_count": null,
   "id": "f658276b-f807-4a63-918d-867a3c958c05",
   "metadata": {
    "tags": []
   },
   "outputs": [],
   "source": [
    "# Run PAGA\n",
    "sc.tl.paga(paga, groups=\"leiden\")           # Run Paga\n",
    "sc.pl.paga(paga, color=[\"leiden\", \"Ms4a1\"]) # Focus on Ms4a1 marker gene "
   ]
  },
  {
   "cell_type": "markdown",
   "id": "7fc3a4ca-a515-4386-8cee-8c53adcba3d5",
   "metadata": {
    "tags": []
   },
   "source": [
    "## Embedding on UMAP "
   ]
  },
  {
   "cell_type": "code",
   "execution_count": null,
   "id": "4d10a307-f482-42de-ae51-fd4a20fe4ce7",
   "metadata": {
    "tags": []
   },
   "outputs": [],
   "source": [
    "# Run and visualize UMAP\n",
    "sc.tl.umap(paga, init_pos = \"paga\")                                    # Run UMAP\n",
    "sc.pl.umap(paga, color = [\"leiden\", \"Ms4a1\"], legend_loc = \"on data\")  # Visualize the UMAP result"
   ]
  },
  {
   "cell_type": "markdown",
   "id": "361fcd92-d1ab-41d6-a060-6f34c136dbe5",
   "metadata": {
    "tags": []
   },
   "source": [
    "## Embedding on PHATE"
   ]
  },
  {
   "cell_type": "code",
   "execution_count": null,
   "id": "c9f18191-b2b5-4dd0-9ab3-d95966006948",
   "metadata": {
    "tags": []
   },
   "outputs": [],
   "source": [
    "sc.external.tl.phate(paga, n_pca = 32)                                          # Run Phate\n",
    "sc.external.pl.phate(paga, color = [\"leiden\", \"Ms4a1\"], legend_loc = \"on data\") # Visulalize Phate result "
   ]
  }
 ],
 "metadata": {
  "kernelspec": {
   "display_name": "Python 3 (ipykernel)",
   "language": "python",
   "name": "python3"
  },
  "language_info": {
   "codemirror_mode": {
    "name": "ipython",
    "version": 3
   },
   "file_extension": ".py",
   "mimetype": "text/x-python",
   "name": "python",
   "nbconvert_exporter": "python",
   "pygments_lexer": "ipython3",
   "version": "3.10.12"
  }
 },
 "nbformat": 4,
 "nbformat_minor": 5
}
